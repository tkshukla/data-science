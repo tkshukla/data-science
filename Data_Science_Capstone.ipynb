{
  "nbformat": 4,
  "nbformat_minor": 0,
  "metadata": {
    "colab": {
      "name": "Data_Science_Capstone.ipynb",
      "provenance": []
    },
    "kernelspec": {
      "name": "python3",
      "display_name": "Python 3"
    }
  },
  "cells": [
    {
      "cell_type": "markdown",
      "metadata": {
        "id": "N77Ns8t9t04h",
        "colab_type": "text"
      },
      "source": [
        "<h1>Coursera Data Science Capstone Project Part - 1<h1>\n",
        "<h4>This notebook will be used to implement the Capstone projects titled <b><i>\"The battle of neighbourhoods\"</i></b></h4>"
      ]
    },
    {
      "cell_type": "markdown",
      "metadata": {
        "id": "dAvh6KJYvauu",
        "colab_type": "text"
      },
      "source": [
        "<h3>Segmenting and Clustering Neighborhoods in Toronto</h3>"
      ]
    },
    {
      "cell_type": "code",
      "metadata": {
        "id": "k6XOzWnnuXgk",
        "colab_type": "code",
        "outputId": "838341a7-4e07-4d97-9aad-406e5834479c",
        "colab": {
          "base_uri": "https://localhost:8080/",
          "height": 35
        }
      },
      "source": [
        "import numpy as np\n",
        "import pandas as pd\n",
        "import requests\n",
        "import lxml.html as lh\n",
        "\n",
        "print('Libraries imported')"
      ],
      "execution_count": 3,
      "outputs": [
        {
          "output_type": "stream",
          "text": [
            "Libraries imported\n"
          ],
          "name": "stdout"
        }
      ]
    },
    {
      "cell_type": "markdown",
      "metadata": {
        "id": "S4ooqitFNW-B",
        "colab_type": "text"
      },
      "source": [
        "<h4>Scraping the Toronto Wikipedia Page using lxml parser from Beautiful Soap</h4>"
      ]
    },
    {
      "cell_type": "code",
      "metadata": {
        "id": "iE_Ik2_Uur_W",
        "colab_type": "code",
        "colab": {}
      },
      "source": [
        "#Toronto Wikipedia link\n",
        "url='https://en.wikipedia.org/wiki/List_of_postal_codes_of_Canada:_M'\n",
        "#getting content from the html page\n",
        "page_content = lh.fromstring(requests.get(url).content)\n",
        "#accessing the table data\n",
        "table_data = page_content.xpath(\"//tr\")"
      ],
      "execution_count": 0,
      "outputs": []
    },
    {
      "cell_type": "markdown",
      "metadata": {
        "id": "kD89EdXDM4M1",
        "colab_type": "text"
      },
      "source": [
        "<h4>Generating Toronto Neighbourhood data from scrapped data as a Python list</h4>"
      ]
    },
    {
      "cell_type": "code",
      "metadata": {
        "id": "W0UPelrNwSzA",
        "colab_type": "code",
        "outputId": "5c529b14-44b9-4ffb-c528-0143e3465acc",
        "colab": {
          "base_uri": "https://localhost:8080/",
          "height": 69
        }
      },
      "source": [
        "toronto_data=[]\n",
        "col_ind=0\n",
        "\n",
        "#Creating header with empty list to add list of values under each column, replace new line character\n",
        "for th in table_data[0]:\n",
        "    col_ind+=1\n",
        "    header=str(th.text_content()).replace('\\n','')\n",
        "    print (col_ind,header)\n",
        "    toronto_data.append((header,[]))\n",
        "    #print(toronto_data)"
      ],
      "execution_count": 5,
      "outputs": [
        {
          "output_type": "stream",
          "text": [
            "1 Postcode\n",
            "2 Borough\n",
            "3 Neighbourhood\n"
          ],
          "name": "stdout"
        }
      ]
    },
    {
      "cell_type": "code",
      "metadata": {
        "id": "qSI609MEy1_4",
        "colab_type": "code",
        "colab": {}
      },
      "source": [
        "# range starts from 1, since header is handled\n",
        "for td in range(1,len(table_data)):\n",
        "    row=table_data[td]\n",
        "    \n",
        "    #Exclude if the row length is not 3\n",
        "    if len(row) != 3:\n",
        "      break\n",
        "    \n",
        "    col_ind=0\n",
        "  \n",
        "    #Iterating through each element of the row, replace new line character\n",
        "    for val in row.iterchildren():\n",
        "        data=str(val.text_content()).replace('\\n','')\n",
        "        #Append the data after header\n",
        "        toronto_data[col_ind][1].append(data)\n",
        "        #Increment i for next column\n",
        "        col_ind+=1\n",
        "\n",
        "#print(toronto_data)\n",
        "#print(len(toronto_data))\n",
        "#print([len(rows) for (i,rows) in toronto_data])"
      ],
      "execution_count": 0,
      "outputs": []
    },
    {
      "cell_type": "markdown",
      "metadata": {
        "id": "xShUXBKeN-5o",
        "colab_type": "text"
      },
      "source": [
        "<h4>Creating a Pandas Data frame from the List of headers and rows of Toronto Neighbourhood data</h4>"
      ]
    },
    {
      "cell_type": "code",
      "metadata": {
        "id": "ZUlHU8lbClj_",
        "colab_type": "code",
        "outputId": "b527e49a-12dc-459e-a580-b69ad6409d2e",
        "colab": {
          "base_uri": "https://localhost:8080/",
          "height": 202
        }
      },
      "source": [
        "#Creating a Pandas Data Frame\n",
        "toronto_struct={header:rows for (header,rows) in toronto_data}\n",
        "toronto_df=pd.DataFrame(toronto_struct)\n",
        "\n",
        "#Dropping rows with Borough value of Not assigned and resetting the index\n",
        "toronto_df = toronto_df.drop(toronto_df.index[toronto_df['Borough'] == 'Not assigned']).reset_index(drop = True)\n",
        "\n",
        "#print(toronto_df.shape)\n",
        "toronto_df.head()"
      ],
      "execution_count": 7,
      "outputs": [
        {
          "output_type": "execute_result",
          "data": {
            "text/html": [
              "<div>\n",
              "<style scoped>\n",
              "    .dataframe tbody tr th:only-of-type {\n",
              "        vertical-align: middle;\n",
              "    }\n",
              "\n",
              "    .dataframe tbody tr th {\n",
              "        vertical-align: top;\n",
              "    }\n",
              "\n",
              "    .dataframe thead th {\n",
              "        text-align: right;\n",
              "    }\n",
              "</style>\n",
              "<table border=\"1\" class=\"dataframe\">\n",
              "  <thead>\n",
              "    <tr style=\"text-align: right;\">\n",
              "      <th></th>\n",
              "      <th>Postcode</th>\n",
              "      <th>Borough</th>\n",
              "      <th>Neighbourhood</th>\n",
              "    </tr>\n",
              "  </thead>\n",
              "  <tbody>\n",
              "    <tr>\n",
              "      <th>0</th>\n",
              "      <td>M3A</td>\n",
              "      <td>North York</td>\n",
              "      <td>Parkwoods</td>\n",
              "    </tr>\n",
              "    <tr>\n",
              "      <th>1</th>\n",
              "      <td>M4A</td>\n",
              "      <td>North York</td>\n",
              "      <td>Victoria Village</td>\n",
              "    </tr>\n",
              "    <tr>\n",
              "      <th>2</th>\n",
              "      <td>M5A</td>\n",
              "      <td>Downtown Toronto</td>\n",
              "      <td>Harbourfront</td>\n",
              "    </tr>\n",
              "    <tr>\n",
              "      <th>3</th>\n",
              "      <td>M6A</td>\n",
              "      <td>North York</td>\n",
              "      <td>Lawrence Heights</td>\n",
              "    </tr>\n",
              "    <tr>\n",
              "      <th>4</th>\n",
              "      <td>M6A</td>\n",
              "      <td>North York</td>\n",
              "      <td>Lawrence Manor</td>\n",
              "    </tr>\n",
              "  </tbody>\n",
              "</table>\n",
              "</div>"
            ],
            "text/plain": [
              "  Postcode           Borough     Neighbourhood\n",
              "0      M3A        North York         Parkwoods\n",
              "1      M4A        North York  Victoria Village\n",
              "2      M5A  Downtown Toronto      Harbourfront\n",
              "3      M6A        North York  Lawrence Heights\n",
              "4      M6A        North York    Lawrence Manor"
            ]
          },
          "metadata": {
            "tags": []
          },
          "execution_count": 7
        }
      ]
    },
    {
      "cell_type": "markdown",
      "metadata": {
        "id": "Q-oAbeckO2zK",
        "colab_type": "text"
      },
      "source": [
        "<h4>Further Cleaning the Toronto Neighbourhood data</h4>"
      ]
    },
    {
      "cell_type": "code",
      "metadata": {
        "id": "qfG2uluPKX2X",
        "colab_type": "code",
        "outputId": "d3ecd782-9c7f-4c76-e56a-e2078c67b2dd",
        "colab": {
          "base_uri": "https://localhost:8080/",
          "height": 202
        }
      },
      "source": [
        "#Grouping Neighbourhoods by Postal codes\n",
        "toronto_df = toronto_df.groupby(['Postcode', 'Borough'])['Neighbourhood'].apply(','.join).reset_index()\n",
        "\n",
        "#Replacing Neighbourhood with Not Assigned with name of Borough\n",
        "toronto_df.loc[toronto_df['Neighbourhood'] == 'Not assigned', 'Neighbourhood'] = toronto_df['Borough']\n",
        "\n",
        "#print(toronto_df[toronto_df['Borough'] == 'Queen\\'s Park'])\n",
        "toronto_df.head()"
      ],
      "execution_count": 8,
      "outputs": [
        {
          "output_type": "execute_result",
          "data": {
            "text/html": [
              "<div>\n",
              "<style scoped>\n",
              "    .dataframe tbody tr th:only-of-type {\n",
              "        vertical-align: middle;\n",
              "    }\n",
              "\n",
              "    .dataframe tbody tr th {\n",
              "        vertical-align: top;\n",
              "    }\n",
              "\n",
              "    .dataframe thead th {\n",
              "        text-align: right;\n",
              "    }\n",
              "</style>\n",
              "<table border=\"1\" class=\"dataframe\">\n",
              "  <thead>\n",
              "    <tr style=\"text-align: right;\">\n",
              "      <th></th>\n",
              "      <th>Postcode</th>\n",
              "      <th>Borough</th>\n",
              "      <th>Neighbourhood</th>\n",
              "    </tr>\n",
              "  </thead>\n",
              "  <tbody>\n",
              "    <tr>\n",
              "      <th>0</th>\n",
              "      <td>M1B</td>\n",
              "      <td>Scarborough</td>\n",
              "      <td>Rouge,Malvern</td>\n",
              "    </tr>\n",
              "    <tr>\n",
              "      <th>1</th>\n",
              "      <td>M1C</td>\n",
              "      <td>Scarborough</td>\n",
              "      <td>Highland Creek,Rouge Hill,Port Union</td>\n",
              "    </tr>\n",
              "    <tr>\n",
              "      <th>2</th>\n",
              "      <td>M1E</td>\n",
              "      <td>Scarborough</td>\n",
              "      <td>Guildwood,Morningside,West Hill</td>\n",
              "    </tr>\n",
              "    <tr>\n",
              "      <th>3</th>\n",
              "      <td>M1G</td>\n",
              "      <td>Scarborough</td>\n",
              "      <td>Woburn</td>\n",
              "    </tr>\n",
              "    <tr>\n",
              "      <th>4</th>\n",
              "      <td>M1H</td>\n",
              "      <td>Scarborough</td>\n",
              "      <td>Cedarbrae</td>\n",
              "    </tr>\n",
              "  </tbody>\n",
              "</table>\n",
              "</div>"
            ],
            "text/plain": [
              "  Postcode      Borough                         Neighbourhood\n",
              "0      M1B  Scarborough                         Rouge,Malvern\n",
              "1      M1C  Scarborough  Highland Creek,Rouge Hill,Port Union\n",
              "2      M1E  Scarborough       Guildwood,Morningside,West Hill\n",
              "3      M1G  Scarborough                                Woburn\n",
              "4      M1H  Scarborough                             Cedarbrae"
            ]
          },
          "metadata": {
            "tags": []
          },
          "execution_count": 8
        }
      ]
    },
    {
      "cell_type": "markdown",
      "metadata": {
        "id": "j2cfU6daRy4x",
        "colab_type": "text"
      },
      "source": [
        "<h2>Final Dimensions of the Data Frame, after Cleaning and Grouping the data</h2>"
      ]
    },
    {
      "cell_type": "code",
      "metadata": {
        "id": "wVGagD7ePYbA",
        "colab_type": "code",
        "outputId": "4cab4dab-002c-4d71-fe73-7cb3e11fd5eb",
        "colab": {
          "base_uri": "https://localhost:8080/",
          "height": 35
        }
      },
      "source": [
        "toronto_df.shape"
      ],
      "execution_count": 9,
      "outputs": [
        {
          "output_type": "execute_result",
          "data": {
            "text/plain": [
              "(103, 3)"
            ]
          },
          "metadata": {
            "tags": []
          },
          "execution_count": 9
        }
      ]
    },
    {
      "cell_type": "code",
      "metadata": {
        "id": "sCJO9EIkSEfb",
        "colab_type": "code",
        "colab": {}
      },
      "source": [
        "#Creating a csv file of the data to use in Part - 2 of the project\n",
        "toronto_df.to_csv(r'toronto_data.csv', index=False)"
      ],
      "execution_count": 0,
      "outputs": []
    },
    {
      "cell_type": "code",
      "metadata": {
        "id": "xFp8b9TjpFbR",
        "colab_type": "code",
        "colab": {}
      },
      "source": [
        ""
      ],
      "execution_count": 0,
      "outputs": []
    }
  ]
}