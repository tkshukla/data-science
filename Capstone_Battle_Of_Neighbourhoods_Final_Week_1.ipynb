{
  "nbformat": 4,
  "nbformat_minor": 0,
  "metadata": {
    "colab": {
      "name": "Capstone - Battle Of Neighbourhoods Final - Week-1.ipynb",
      "provenance": [],
      "include_colab_link": true
    },
    "kernelspec": {
      "name": "python3",
      "display_name": "Python 3"
    }
  },
  "cells": [
    {
      "cell_type": "markdown",
      "metadata": {
        "id": "view-in-github",
        "colab_type": "text"
      },
      "source": [
        "<a href=\"https://colab.research.google.com/github/RamanujaSVL/Coursera_Capstone/blob/master/Capstone_Battle_Of_Neighbourhoods_Final_Week_1.ipynb\" target=\"_parent\"><img src=\"https://colab.research.google.com/assets/colab-badge.svg\" alt=\"Open In Colab\"/></a>"
      ]
    },
    {
      "cell_type": "markdown",
      "metadata": {
        "collapsed": true,
        "id": "KWiV0DSLvdeb",
        "colab_type": "text"
      },
      "source": [
        "# Capstone Project - The Battle of the Neighborhoods (Week 1)\n",
        "### Applied Data Science Capstone by IBM/Coursera"
      ]
    },
    {
      "cell_type": "markdown",
      "metadata": {
        "id": "jvQnq6EGvdem",
        "colab_type": "text"
      },
      "source": [
        "\n",
        "\n",
        "## Introduction: Business Problem <a name=\"introduction\"></a>"
      ]
    },
    {
      "cell_type": "markdown",
      "metadata": {
        "id": "yMWJ83LVvden",
        "colab_type": "text"
      },
      "source": [
        "The aim of this project is to find a safe and secure location for opening of commercial establishments in Vancouver, Canada. Specifically, this report will be targeted to stakeholders interested in opening any business place like **Grocery Store** in **Vancouver City**, Canada.\n",
        "\n",
        "The first task would be to **choose the safest borough** by analysing crime data for opening a grocery store and **shortlisting a neighbourhood**, where grocery stores are not amongst the most commom venues, and yet **as close to the city as possible**.\n",
        "\n",
        "We will make use of our data science tools to analyse data and focus on the safest borough and explore its neighborhoods and the 10 most common venues in each neighborhood so that the best neighborhood where grocery store is not amongst the most common venue can be selected."
      ]
    },
    {
      "cell_type": "markdown",
      "metadata": {
        "id": "5WPd8fs4vdeo",
        "colab_type": "text"
      },
      "source": [
        "## Data <a name=\"data\"></a>"
      ]
    },
    {
      "cell_type": "markdown",
      "metadata": {
        "id": "deq-yd9uvdeq",
        "colab_type": "text"
      },
      "source": [
        "Based on definition of our problem, factors that will influence our decission are:\n",
        "* finding the safest borough based on crime statistics\n",
        "* finding the most common venues\n",
        "* choosing the right neighbourhood within the borough\n",
        "\n",
        "We will be using the geographical coordinates of Vancouver to plot neighbourhoods in a borough that is safe and in the city's vicinity, and finally cluster our neighborhoods and present our findings.\n",
        "\n",
        "Following data sources will be needed to extract/generate the required information:\n",
        "\n",
        "- **Part 1**: Using a real world data set from Kaggle containing the Vancouver Crimes from 2003 to 2019:  A dataset consisting of the crime statistics of each Neighbourhoof in Vancouver along with type of crime, recorded year, month and hour.\n",
        "\n",
        "- **Part 2**: Gathering additional information of the list of officially categorized boroughs in Vancouver from Wikipedia.: Borough information will be used to map the existing data where each neighbourhood can be assigned with its respective borough.\n",
        "\n",
        "- **Part 3**: Creating a new consolidated dataset of the Neighborhoods, along with their boroughs, crime data and the respective Neighbourhood's co-ordinates: This latitude and longitude data will be fetched using OpenCage Geocoder to explore the neighbourhood by plotting it on maps using Folium and perform exploratory data analysis.\n",
        "\n",
        "- **Part 4**: Creating a new consolidated dataset of the Neighborhoods, boroughs, and the most common venues and the respective Neighbourhood along with co-ordinates: This data will be fetched using Four Square API to explore the neighbourhood venues and to apply machine learning algorithm to cluster the neighbourhoods and present the findings by plotting it on maps using Folium."
      ]
    }
  ]
}